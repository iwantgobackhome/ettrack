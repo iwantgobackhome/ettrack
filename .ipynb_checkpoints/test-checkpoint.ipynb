{
 "cells": [
  {
   "cell_type": "code",
   "execution_count": 1,
   "id": "729f9476-23af-4901-93e6-67377d62b344",
   "metadata": {},
   "outputs": [
    {
     "name": "stderr",
     "output_type": "stream",
     "text": [
      "C:\\Users\\Home\\anaconda3\\envs\\ettrack\\lib\\site-packages\\tqdm\\auto.py:21: TqdmWarning: IProgress not found. Please update jupyter and ipywidgets. See https://ipywidgets.readthedocs.io/en/stable/user_install.html\n",
      "  from .autonotebook import tqdm as notebook_tqdm\n"
     ]
    }
   ],
   "source": [
    "import cv2\n",
    "import torch\n",
    "\n",
    "template = cv2.imread('C://Users/Home/Desktop/paper/ettrack/ettrack/dataset/UAV123/data_seq/UAV123/bike1/000001.jpg')\n",
    "sample = cv2.imread('C://Users/Home/Desktop/paper/ettrack/ettrack/dataset/UAV123/data_seq/UAV123/bike1/000002.jpg')\n",
    "\n",
    "template = cv2.rectangle(template, (703, 361), (703+57, 361+114), (255, 0, 0), 3)\n",
    "# template = cv2.circle(template, (int(57/2) + 703, int(114/2) + 361), 15, (0, 0, 255), 3)\n",
    "center_x = int(57/2) + 703\n",
    "center_y = int(114/2) + 361\n",
    "width = 128\n",
    "\n",
    "# template = template[center_y - 64: center_y + 64, center_x - 64: center_x + 64]\n",
    "\n",
    "# sample = cv2.resize(sample, (256, 256), interpolation=cv2.INTER_AREA)\n",
    "\n",
    "cv2.imshow('--',template)\n",
    "\n",
    "cv2.waitKey(0)\n",
    "cv2.destroyAllWindows()\n",
    "\n",
    "# template = torch.tensor(template.transpose(2, 0, 1))\n",
    "# search = torch.tensor(sample.transpose(2, 0, 1))\n",
    "\n",
    "# template = template.reshape(1, 3, 128, 128)\n",
    "# search = search.reshape(1, 3, 256, 256)"
   ]
  },
  {
   "cell_type": "code",
   "execution_count": 29,
   "id": "42d5b2d6-f52a-4d00-8e43-9d22f3b3a6a2",
   "metadata": {},
   "outputs": [],
   "source": [
    "import cv2\n",
    "import torch\n",
    "\n",
    "txt_file = open(\"C://Users/Home/Desktop/paper/ettrack/ettrack/pytracking/tracking_results1/et_tracker/et_tracker_000/uav_bike1.txt\", 'r')\n",
    "results = txt_file.readlines()\n",
    "\n",
    "for i in range(1, len(results)+1):\n",
    "    image_number = '{0:06d}'.format(i)\n",
    "    x1, y1, x2, y2 = results[i-1].split('\\t')\n",
    "    y2 = y2[:3]\n",
    "    x1, y1, x2, y2 = int(x1), int(y1), int(x2), int(y2)\n",
    "    template = cv2.imread(f'C://Users/Home/Desktop/paper/ettrack/ettrack/dataset/UAV123/data_seq/UAV123/bike1/{image_number}.jpg')\n",
    "    template = cv2.rectangle(template, (x1, y1), (x1+x2, y1+y2), (255, 0, 0), 3)\n",
    "    # cv2.imshow('--',template)\n",
    "    # cv2.waitKey(0)\n",
    "    # cv2.destroyAllWindows()\n",
    "    cv2.imwrite(f\"C://Users/Home/Desktop/result/{image_number}.jpg\", template)\n",
    "txt_file.close()\n"
   ]
  },
  {
   "cell_type": "code",
   "execution_count": 81,
   "id": "28b98507-0fb1-46d1-8bc0-6641d5686c52",
   "metadata": {},
   "outputs": [
    {
     "ename": "RuntimeError",
     "evalue": "expected scalar type Byte but found Float",
     "output_type": "error",
     "traceback": [
      "\u001b[1;31m---------------------------------------------------------------------------\u001b[0m",
      "\u001b[1;31mRuntimeError\u001b[0m                              Traceback (most recent call last)",
      "Cell \u001b[1;32mIn[81], line 5\u001b[0m\n\u001b[0;32m      1\u001b[0m \u001b[38;5;28;01mfrom\u001b[39;00m \u001b[38;5;21;01mtracking\u001b[39;00m\u001b[38;5;21;01m.\u001b[39;00m\u001b[38;5;21;01mbasic_model\u001b[39;00m\u001b[38;5;21;01m.\u001b[39;00m\u001b[38;5;21;01met_tracker\u001b[39;00m \u001b[38;5;28;01mimport\u001b[39;00m ET_Tracker\n\u001b[0;32m      3\u001b[0m model \u001b[38;5;241m=\u001b[39m ET_Tracker()\n\u001b[1;32m----> 5\u001b[0m \u001b[43mmodel\u001b[49m\u001b[38;5;241;43m.\u001b[39;49m\u001b[43mforward\u001b[49m\u001b[43m(\u001b[49m\u001b[43mtemplate\u001b[49m\u001b[38;5;241;43m.\u001b[39;49m\u001b[43mtype\u001b[49m\u001b[43m(\u001b[49m\u001b[43mtorch\u001b[49m\u001b[38;5;241;43m.\u001b[39;49m\u001b[43mByteTensor\u001b[49m\u001b[43m)\u001b[49m\u001b[43m,\u001b[49m\u001b[43m \u001b[49m\u001b[43msearch\u001b[49m\u001b[38;5;241;43m.\u001b[39;49m\u001b[43mtype\u001b[49m\u001b[43m(\u001b[49m\u001b[43mtorch\u001b[49m\u001b[38;5;241;43m.\u001b[39;49m\u001b[43mByteTensor\u001b[49m\u001b[43m)\u001b[49m\u001b[43m)\u001b[49m\n",
      "File \u001b[1;32m~\\Desktop\\paper\\ettrack\\ettrack\\tracking\\basic_model\\et_tracker.py:79\u001b[0m, in \u001b[0;36mET_Tracker.forward\u001b[1;34m(self, template, search, label, reg_target, reg_weight)\u001b[0m\n\u001b[0;32m     76\u001b[0m torch\u001b[38;5;241m.\u001b[39mautograd\u001b[38;5;241m.\u001b[39mset_detect_anomaly(\u001b[38;5;28;01mTrue\u001b[39;00m)\n\u001b[0;32m     78\u001b[0m \u001b[38;5;66;03m# extract features \u001b[39;00m\n\u001b[1;32m---> 79\u001b[0m zf \u001b[38;5;241m=\u001b[39m \u001b[38;5;28;43mself\u001b[39;49m\u001b[38;5;241;43m.\u001b[39;49m\u001b[43mbackbone_net\u001b[49m\u001b[43m(\u001b[49m\u001b[43mtemplate\u001b[49m\u001b[43m)\u001b[49m\n\u001b[0;32m     80\u001b[0m xf \u001b[38;5;241m=\u001b[39m \u001b[38;5;28mself\u001b[39m\u001b[38;5;241m.\u001b[39mbackbone_net(search)  \n\u001b[0;32m     82\u001b[0m \u001b[38;5;66;03m# Batch Normalization before Corr\u001b[39;00m\n",
      "File \u001b[1;32m~\\anaconda3\\envs\\ettrack\\lib\\site-packages\\torch\\nn\\modules\\module.py:889\u001b[0m, in \u001b[0;36mModule._call_impl\u001b[1;34m(self, *input, **kwargs)\u001b[0m\n\u001b[0;32m    887\u001b[0m     result \u001b[38;5;241m=\u001b[39m \u001b[38;5;28mself\u001b[39m\u001b[38;5;241m.\u001b[39m_slow_forward(\u001b[38;5;241m*\u001b[39m\u001b[38;5;28minput\u001b[39m, \u001b[38;5;241m*\u001b[39m\u001b[38;5;241m*\u001b[39mkwargs)\n\u001b[0;32m    888\u001b[0m \u001b[38;5;28;01melse\u001b[39;00m:\n\u001b[1;32m--> 889\u001b[0m     result \u001b[38;5;241m=\u001b[39m \u001b[38;5;28mself\u001b[39m\u001b[38;5;241m.\u001b[39mforward(\u001b[38;5;241m*\u001b[39m\u001b[38;5;28minput\u001b[39m, \u001b[38;5;241m*\u001b[39m\u001b[38;5;241m*\u001b[39mkwargs)\n\u001b[0;32m    890\u001b[0m \u001b[38;5;28;01mfor\u001b[39;00m hook \u001b[38;5;129;01min\u001b[39;00m itertools\u001b[38;5;241m.\u001b[39mchain(\n\u001b[0;32m    891\u001b[0m         _global_forward_hooks\u001b[38;5;241m.\u001b[39mvalues(),\n\u001b[0;32m    892\u001b[0m         \u001b[38;5;28mself\u001b[39m\u001b[38;5;241m.\u001b[39m_forward_hooks\u001b[38;5;241m.\u001b[39mvalues()):\n\u001b[0;32m    893\u001b[0m     hook_result \u001b[38;5;241m=\u001b[39m hook(\u001b[38;5;28mself\u001b[39m, \u001b[38;5;28minput\u001b[39m, result)\n",
      "File \u001b[1;32m~\\Desktop\\paper\\ettrack\\ettrack\\supernet_backbone\\lib_back\\models\\model.py:153\u001b[0m, in \u001b[0;36mChildNet_FCN.forward\u001b[1;34m(self, x)\u001b[0m\n\u001b[0;32m    151\u001b[0m \u001b[38;5;28;01mdef\u001b[39;00m \u001b[38;5;21mforward\u001b[39m(\u001b[38;5;28mself\u001b[39m, x):\n\u001b[0;32m    152\u001b[0m     \u001b[38;5;66;03m# architecture = [[0], [], [], [], [], [], [0]]\u001b[39;00m\n\u001b[1;32m--> 153\u001b[0m     x \u001b[38;5;241m=\u001b[39m \u001b[38;5;28;43mself\u001b[39;49m\u001b[38;5;241;43m.\u001b[39;49m\u001b[43mconv_stem\u001b[49m\u001b[43m(\u001b[49m\u001b[43mx\u001b[49m\u001b[43m)\u001b[49m\n\u001b[0;32m    154\u001b[0m     x \u001b[38;5;241m=\u001b[39m \u001b[38;5;28mself\u001b[39m\u001b[38;5;241m.\u001b[39mbn1(x)\n\u001b[0;32m    155\u001b[0m     x \u001b[38;5;241m=\u001b[39m \u001b[38;5;28mself\u001b[39m\u001b[38;5;241m.\u001b[39mact1(x)\n",
      "File \u001b[1;32m~\\anaconda3\\envs\\ettrack\\lib\\site-packages\\torch\\nn\\modules\\module.py:889\u001b[0m, in \u001b[0;36mModule._call_impl\u001b[1;34m(self, *input, **kwargs)\u001b[0m\n\u001b[0;32m    887\u001b[0m     result \u001b[38;5;241m=\u001b[39m \u001b[38;5;28mself\u001b[39m\u001b[38;5;241m.\u001b[39m_slow_forward(\u001b[38;5;241m*\u001b[39m\u001b[38;5;28minput\u001b[39m, \u001b[38;5;241m*\u001b[39m\u001b[38;5;241m*\u001b[39mkwargs)\n\u001b[0;32m    888\u001b[0m \u001b[38;5;28;01melse\u001b[39;00m:\n\u001b[1;32m--> 889\u001b[0m     result \u001b[38;5;241m=\u001b[39m \u001b[38;5;28mself\u001b[39m\u001b[38;5;241m.\u001b[39mforward(\u001b[38;5;241m*\u001b[39m\u001b[38;5;28minput\u001b[39m, \u001b[38;5;241m*\u001b[39m\u001b[38;5;241m*\u001b[39mkwargs)\n\u001b[0;32m    890\u001b[0m \u001b[38;5;28;01mfor\u001b[39;00m hook \u001b[38;5;129;01min\u001b[39;00m itertools\u001b[38;5;241m.\u001b[39mchain(\n\u001b[0;32m    891\u001b[0m         _global_forward_hooks\u001b[38;5;241m.\u001b[39mvalues(),\n\u001b[0;32m    892\u001b[0m         \u001b[38;5;28mself\u001b[39m\u001b[38;5;241m.\u001b[39m_forward_hooks\u001b[38;5;241m.\u001b[39mvalues()):\n\u001b[0;32m    893\u001b[0m     hook_result \u001b[38;5;241m=\u001b[39m hook(\u001b[38;5;28mself\u001b[39m, \u001b[38;5;28minput\u001b[39m, result)\n",
      "File \u001b[1;32m~\\anaconda3\\envs\\ettrack\\lib\\site-packages\\torch\\nn\\modules\\conv.py:399\u001b[0m, in \u001b[0;36mConv2d.forward\u001b[1;34m(self, input)\u001b[0m\n\u001b[0;32m    398\u001b[0m \u001b[38;5;28;01mdef\u001b[39;00m \u001b[38;5;21mforward\u001b[39m(\u001b[38;5;28mself\u001b[39m, \u001b[38;5;28minput\u001b[39m: Tensor) \u001b[38;5;241m-\u001b[39m\u001b[38;5;241m>\u001b[39m Tensor:\n\u001b[1;32m--> 399\u001b[0m     \u001b[38;5;28;01mreturn\u001b[39;00m \u001b[38;5;28;43mself\u001b[39;49m\u001b[38;5;241;43m.\u001b[39;49m\u001b[43m_conv_forward\u001b[49m\u001b[43m(\u001b[49m\u001b[38;5;28;43minput\u001b[39;49m\u001b[43m,\u001b[49m\u001b[43m \u001b[49m\u001b[38;5;28;43mself\u001b[39;49m\u001b[38;5;241;43m.\u001b[39;49m\u001b[43mweight\u001b[49m\u001b[43m,\u001b[49m\u001b[43m \u001b[49m\u001b[38;5;28;43mself\u001b[39;49m\u001b[38;5;241;43m.\u001b[39;49m\u001b[43mbias\u001b[49m\u001b[43m)\u001b[49m\n",
      "File \u001b[1;32m~\\anaconda3\\envs\\ettrack\\lib\\site-packages\\torch\\nn\\modules\\conv.py:395\u001b[0m, in \u001b[0;36mConv2d._conv_forward\u001b[1;34m(self, input, weight, bias)\u001b[0m\n\u001b[0;32m    391\u001b[0m \u001b[38;5;28;01mif\u001b[39;00m \u001b[38;5;28mself\u001b[39m\u001b[38;5;241m.\u001b[39mpadding_mode \u001b[38;5;241m!=\u001b[39m \u001b[38;5;124m'\u001b[39m\u001b[38;5;124mzeros\u001b[39m\u001b[38;5;124m'\u001b[39m:\n\u001b[0;32m    392\u001b[0m     \u001b[38;5;28;01mreturn\u001b[39;00m F\u001b[38;5;241m.\u001b[39mconv2d(F\u001b[38;5;241m.\u001b[39mpad(\u001b[38;5;28minput\u001b[39m, \u001b[38;5;28mself\u001b[39m\u001b[38;5;241m.\u001b[39m_reversed_padding_repeated_twice, mode\u001b[38;5;241m=\u001b[39m\u001b[38;5;28mself\u001b[39m\u001b[38;5;241m.\u001b[39mpadding_mode),\n\u001b[0;32m    393\u001b[0m                     weight, bias, \u001b[38;5;28mself\u001b[39m\u001b[38;5;241m.\u001b[39mstride,\n\u001b[0;32m    394\u001b[0m                     _pair(\u001b[38;5;241m0\u001b[39m), \u001b[38;5;28mself\u001b[39m\u001b[38;5;241m.\u001b[39mdilation, \u001b[38;5;28mself\u001b[39m\u001b[38;5;241m.\u001b[39mgroups)\n\u001b[1;32m--> 395\u001b[0m \u001b[38;5;28;01mreturn\u001b[39;00m \u001b[43mF\u001b[49m\u001b[38;5;241;43m.\u001b[39;49m\u001b[43mconv2d\u001b[49m\u001b[43m(\u001b[49m\u001b[38;5;28;43minput\u001b[39;49m\u001b[43m,\u001b[49m\u001b[43m \u001b[49m\u001b[43mweight\u001b[49m\u001b[43m,\u001b[49m\u001b[43m \u001b[49m\u001b[43mbias\u001b[49m\u001b[43m,\u001b[49m\u001b[43m \u001b[49m\u001b[38;5;28;43mself\u001b[39;49m\u001b[38;5;241;43m.\u001b[39;49m\u001b[43mstride\u001b[49m\u001b[43m,\u001b[49m\n\u001b[0;32m    396\u001b[0m \u001b[43m                \u001b[49m\u001b[38;5;28;43mself\u001b[39;49m\u001b[38;5;241;43m.\u001b[39;49m\u001b[43mpadding\u001b[49m\u001b[43m,\u001b[49m\u001b[43m \u001b[49m\u001b[38;5;28;43mself\u001b[39;49m\u001b[38;5;241;43m.\u001b[39;49m\u001b[43mdilation\u001b[49m\u001b[43m,\u001b[49m\u001b[43m \u001b[49m\u001b[38;5;28;43mself\u001b[39;49m\u001b[38;5;241;43m.\u001b[39;49m\u001b[43mgroups\u001b[49m\u001b[43m)\u001b[49m\n",
      "\u001b[1;31mRuntimeError\u001b[0m: expected scalar type Byte but found Float"
     ]
    }
   ],
   "source": [
    "from tracking.basic_model.et_tracker import ET_Tracker\n",
    "\n",
    "model = ET_Tracker()\n",
    "\n",
    "model.forward(template.type(torch.ByteTensor), search.type(torch.ByteTensor))"
   ]
  },
  {
   "cell_type": "code",
   "execution_count": 12,
   "id": "c7a442d1-3c39-4907-b008-7a49e646c5b3",
   "metadata": {},
   "outputs": [
    {
     "data": {
      "text/plain": [
       "True"
      ]
     },
     "execution_count": 12,
     "metadata": {},
     "output_type": "execute_result"
    }
   ],
   "source": [
    "import cv2\n",
    "import torch\n",
    "\n",
    "template = cv2.imread('C://Users/Home/Desktop/paper/ettrack/ettrack/dataset/UAV123/data_seq/UAV123/bike1/000013.jpg')\n",
    "# template = cv2.imread('C://Users/Home/Desktop/paper/ettrack/ettrack/dataset/OTB100/Basketball/img/0001.jpg')\n",
    "sample = cv2.imread('C://Users/Home/Desktop/paper/ettrack/ettrack/dataset/UAV123/data_seq/UAV123/bike1/000002.jpg')\n",
    "\n",
    "template = cv2.rectangle(template, (736, 375), (736+60, 375+124), (255, 255, 255), 10)\n",
    "# template = cv2.rectangle(template, (188, 214), (188+44, 214+101), (255, 255, 255), 10)\n",
    "# template = cv2.circle(template, (int(57/2) + 703, int(114/2) + 361), 15, (0, 0, 255), 3)\n",
    "center_x = int(57/2) + 703\n",
    "center_y = int(114/2) + 361\n",
    "width = 128\n",
    "\n",
    "# template = template[center_y - 64: center_y + 64, center_x - 64: center_x + 64]\n",
    "\n",
    "# sample = cv2.resize(sample, (256, 256), interpolation=cv2.INTER_AREA)\n",
    "\n",
    "# cv2.imshow('--',template)\n",
    "# cv2.waitKey(0)\n",
    "# cv2.destroyAllWindows()\n",
    "cv2.imwrite(f\"C://Users/Home/Desktop/0002.jpg\", template)"
   ]
  },
  {
   "cell_type": "code",
   "execution_count": 14,
   "id": "c828e538-19ff-4ba0-841f-8020fe050788",
   "metadata": {},
   "outputs": [],
   "source": [
    "import cv2\n",
    "\n",
    "template = cv2.imread(\"C://Users/Home/Desktop/paper/id_card_ocr/TextRecognitionDataGenerator/trdg/out/1.jpg\")\n",
    "# sample = cv2.imread('C://Users/Home/Desktop/paper/ettrack/ettrack/dataset/UAV123/data_seq/UAV123/bike1/000002.jpg')\n",
    "\n",
    "template = cv2.rectangle(template, (90, 125), (304, 160), (255, 0, 0), 3)\n",
    "cv2.imshow('--',template)\n",
    "\n",
    "cv2.waitKey(0)\n",
    "cv2.destroyAllWindows()"
   ]
  },
  {
   "cell_type": "code",
   "execution_count": null,
   "id": "12c5103e-201a-425e-bca4-7d8e5cadc752",
   "metadata": {},
   "outputs": [],
   "source": []
  }
 ],
 "metadata": {
  "kernelspec": {
   "display_name": "Python 3 (ipykernel)",
   "language": "python",
   "name": "python3"
  },
  "language_info": {
   "codemirror_mode": {
    "name": "ipython",
    "version": 3
   },
   "file_extension": ".py",
   "mimetype": "text/x-python",
   "name": "python",
   "nbconvert_exporter": "python",
   "pygments_lexer": "ipython3",
   "version": "3.9.19"
  }
 },
 "nbformat": 4,
 "nbformat_minor": 5
}
